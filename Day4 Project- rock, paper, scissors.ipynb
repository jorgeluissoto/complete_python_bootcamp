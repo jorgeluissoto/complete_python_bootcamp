{
 "cells": [
  {
   "cell_type": "code",
   "execution_count": 8,
   "metadata": {},
   "outputs": [],
   "source": [
    "import random\n",
    "\n",
    "rock = '''\n",
    "    _______\n",
    "---'   ____)\n",
    "      (_____)\n",
    "      (_____)\n",
    "      (____)\n",
    "---.__(___)\n",
    "'''\n",
    "\n",
    "paper = '''\n",
    "    _______\n",
    "---'   ____)____\n",
    "          ______)\n",
    "          _______)\n",
    "         _______)\n",
    "---.__________)\n",
    "'''\n",
    "\n",
    "scissors = '''\n",
    "    _______\n",
    "---'   ____)____\n",
    "          ______)\n",
    "       __________)\n",
    "      (____)\n",
    "---.__(___)\n",
    "'''\n",
    "\n",
    "#Write your code below this line 👇\n",
    "game_images = [rock, paper, scissors]\n",
    "\n",
    "user = int(input(\"What do you choose? Type 0 for Rock, 1 for Paper or 2 for Scissors.\\n\"))\n",
    "computer_user = random.randint(0, 2)\n",
    "\n",
    "print(game_images[user])\n",
    "\n",
    "print(\"Computer Chose:\")\n",
    "\n",
    "print(game_images[computer_user])\n",
    "\n",
    "if user == computer_user:\n",
    "        print(\"Draw\")\n",
    "elif user == 0 and computer_user ==1:\n",
    "        print(\"You Lose\")\n",
    "elif user == 0 and computer_user ==2:\n",
    "        print(\"You Won!\")\n",
    "elif user == 1 and computer_user ==0:\n",
    "        print(\"You Win\")\n",
    "elif user == 1 and computer_user ==2:\n",
    "        print(\"You Lose!\")\n",
    "elif user == 2 and computer_user ==1:\n",
    "        print(\"You Won\")\n",
    "elif user == 2 and computer_user ==0:\n",
    "        print(\"You Lose!\")\n"
   ]
  }
 ],
 "metadata": {
  "interpreter": {
   "hash": "7e1998ff7f8aa20ada591c520b972326324e5ea05489af9e422744c7c09f6dad"
  },
  "kernelspec": {
   "display_name": "Python 3.10.4 64-bit",
   "language": "python",
   "name": "python3"
  },
  "language_info": {
   "codemirror_mode": {
    "name": "ipython",
    "version": 3
   },
   "file_extension": ".py",
   "mimetype": "text/x-python",
   "name": "python",
   "nbconvert_exporter": "python",
   "pygments_lexer": "ipython3",
   "version": "3.10.4"
  },
  "orig_nbformat": 4
 },
 "nbformat": 4,
 "nbformat_minor": 2
}
