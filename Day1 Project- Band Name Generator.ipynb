{
 "cells": [
  {
   "cell_type": "code",
   "execution_count": 11,
   "metadata": {},
   "outputs": [
    {
     "name": "stdout",
     "output_type": "stream",
     "text": [
      "Welcome to the Band Name Generator\n",
      "Your band name could be Temecula Buddy!\n"
     ]
    }
   ],
   "source": [
    "# Create a greeting for your program\n",
    "print(\"Welcome to the Band Name Generator\")\n",
    "\n",
    "# Ask the user for the city that they grew up in\n",
    "city = input(\"What's name of the city you grew up in?\\n\")\n",
    "\n",
    "# Ask the user for the name of a pet\n",
    "pet = input(\"What's your pet's name?\\n\")\n",
    "\n",
    "# Combine the name of their city and pet and show their band name\n",
    "print(\"Your band name could be\" \" \" + city + \" \" + pet + \"!\")\n",
    "\n",
    "# Make sure the input cursor shows on a new line"
   ]
  }
 ],
 "metadata": {
  "interpreter": {
   "hash": "aee8b7b246df8f9039afb4144a1f6fd8d2ca17a180786b69acc140d282b71a49"
  },
  "kernelspec": {
   "display_name": "Python 3.10.5 64-bit",
   "language": "python",
   "name": "python3"
  },
  "language_info": {
   "codemirror_mode": {
    "name": "ipython",
    "version": 3
   },
   "file_extension": ".py",
   "mimetype": "text/x-python",
   "name": "python",
   "nbconvert_exporter": "python",
   "pygments_lexer": "ipython3",
   "version": "3.10.5"
  },
  "orig_nbformat": 4
 },
 "nbformat": 4,
 "nbformat_minor": 2
}
