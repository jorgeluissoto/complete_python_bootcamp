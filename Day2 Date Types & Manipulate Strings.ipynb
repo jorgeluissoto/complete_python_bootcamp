{
 "cells": [
  {
   "cell_type": "markdown",
   "metadata": {},
   "source": [
    "#### Python Primitive Data Types"
   ]
  },
  {
   "cell_type": "code",
   "execution_count": 4,
   "metadata": {},
   "outputs": [
    {
     "name": "stdout",
     "output_type": "stream",
     "text": [
      "123345\n"
     ]
    }
   ],
   "source": [
    "# String\n",
    "# Must be in \" \"\n",
    "\n",
    "\"Hello\"\n",
    "\n",
    "# Pull the index to get a letter\n",
    "# Zero indexing\n",
    "# Subscripting \n",
    "\n",
    "#print(\"Hello\"[4])\n",
    "\n",
    "print(\"123\" + \"345\")\n"
   ]
  },
  {
   "cell_type": "code",
   "execution_count": 5,
   "metadata": {},
   "outputs": [
    {
     "name": "stdout",
     "output_type": "stream",
     "text": [
      "468\n"
     ]
    }
   ],
   "source": [
    "# Integer - whole numbers\n",
    "# write the number with no \" \"\n",
    "\n",
    "print(123 + 345)"
   ]
  },
  {
   "cell_type": "code",
   "execution_count": null,
   "metadata": {},
   "outputs": [],
   "source": [
    "# Float\n",
    "# Floating point number 3.14 for example\n",
    "\n",
    "3.14159"
   ]
  },
  {
   "cell_type": "code",
   "execution_count": 6,
   "metadata": {},
   "outputs": [
    {
     "name": "stdout",
     "output_type": "stream",
     "text": [
      "True\n"
     ]
    }
   ],
   "source": [
    "# Boolean\n",
    "# True or False only\n",
    "\n",
    "print(2==2)"
   ]
  },
  {
   "cell_type": "code",
   "execution_count": 7,
   "metadata": {},
   "outputs": [
    {
     "name": "stdout",
     "output_type": "stream",
     "text": [
      "yo\n"
     ]
    }
   ],
   "source": [
    "# When indexing you have to count the blank space as 1\n",
    "\n",
    "street_name = \"Abbey Road\"\n",
    "print(street_name[4] + street_name[7])"
   ]
  },
  {
   "cell_type": "markdown",
   "metadata": {},
   "source": [
    "#### Type Error, Type Checking and Type Conversion"
   ]
  },
  {
   "cell_type": "code",
   "execution_count": 8,
   "metadata": {},
   "outputs": [
    {
     "ename": "TypeError",
     "evalue": "can only concatenate str (not \"int\") to str",
     "output_type": "error",
     "traceback": [
      "\u001b[0;31m---------------------------------------------------------------------------\u001b[0m",
      "\u001b[0;31mTypeError\u001b[0m                                 Traceback (most recent call last)",
      "\u001b[1;32m/Users/jorgesoto/Desktop/MasterSchool/100 Days of Code/Day2 of Coding.ipynb Cell 8'\u001b[0m in \u001b[0;36m<cell line: 2>\u001b[0;34m()\u001b[0m\n\u001b[1;32m      <a href='vscode-notebook-cell:/Users/jorgesoto/Desktop/MasterSchool/100%20Days%20of%20Code/Day2%20of%20Coding.ipynb#ch0000009?line=0'>1</a>\u001b[0m num_char \u001b[39m=\u001b[39m \u001b[39mlen\u001b[39m(\u001b[39minput\u001b[39m(\u001b[39m\"\u001b[39m\u001b[39mWhat is your name\u001b[39m\u001b[39m\"\u001b[39m))\n\u001b[0;32m----> <a href='vscode-notebook-cell:/Users/jorgesoto/Desktop/MasterSchool/100%20Days%20of%20Code/Day2%20of%20Coding.ipynb#ch0000009?line=1'>2</a>\u001b[0m \u001b[39mprint\u001b[39m(\u001b[39m\"\u001b[39;49m\u001b[39mYour name has \u001b[39;49m\u001b[39m\"\u001b[39;49m \u001b[39m+\u001b[39;49m num_char \u001b[39m+\u001b[39m \u001b[39m\"\u001b[39m\u001b[39m characters.\u001b[39m\u001b[39m\"\u001b[39m)\n",
      "\u001b[0;31mTypeError\u001b[0m: can only concatenate str (not \"int\") to str"
     ]
    }
   ],
   "source": [
    "# Type Error cant join a str and int together\n",
    "\n",
    "num_char = len(input(\"What is your name\"))\n",
    "print(\"Your name has \" + num_char + \" characters.\")"
   ]
  },
  {
   "cell_type": "code",
   "execution_count": 9,
   "metadata": {},
   "outputs": [
    {
     "data": {
      "text/plain": [
       "int"
      ]
     },
     "execution_count": 9,
     "metadata": {},
     "output_type": "execute_result"
    }
   ],
   "source": [
    "# type function you have\n",
    "type(num_char)"
   ]
  },
  {
   "cell_type": "code",
   "execution_count": 11,
   "metadata": {},
   "outputs": [
    {
     "name": "stdout",
     "output_type": "stream",
     "text": [
      "Your name has 5 characters.\n"
     ]
    }
   ],
   "source": [
    "# Solve the error\n",
    "# Type conversion\n",
    "\n",
    "num_char = len(input(\"What is your name\"))\n",
    "new_num_char = str(num_char)\n",
    "print(\"Your name has \" + new_num_char + \" characters.\")"
   ]
  },
  {
   "cell_type": "code",
   "execution_count": 12,
   "metadata": {},
   "outputs": [
    {
     "data": {
      "text/plain": [
       "int"
      ]
     },
     "execution_count": 12,
     "metadata": {},
     "output_type": "execute_result"
    }
   ],
   "source": [
    "# add str, int, or float to convert to that data type\n",
    "\n",
    "a = str(123)\n",
    "type(a)"
   ]
  },
  {
   "cell_type": "markdown",
   "metadata": {},
   "source": [
    "#### Data Type Exercise\n",
    "- Write a program that adds the digits in a 2 digit number. e.g. if the input was 35, then the output should be 3 + 5 = 8"
   ]
  },
  {
   "cell_type": "code",
   "execution_count": 16,
   "metadata": {},
   "outputs": [
    {
     "name": "stdout",
     "output_type": "stream",
     "text": [
      "5\n"
     ]
    }
   ],
   "source": [
    "# 🚨 Don't change the code below 👇\n",
    "two_digit_number = input(\"Type a two digit number: \")\n",
    "# 🚨 Don't change the code above 👆\n",
    "\n",
    "# check the data type of two_digit_number\n",
    "#type(two_digit_number)\n",
    "\n",
    "# get the first and second digit using subscripting then convert to int\n",
    "a = int(two_digit_number[0])\n",
    "b = int(two_digit_number[1])\n",
    "\n",
    "# add the two digits together\n",
    "print(a + b)\n",
    "####################################\n",
    "#Write your code below this line 👇"
   ]
  },
  {
   "cell_type": "markdown",
   "metadata": {},
   "source": [
    "#### Mathematical Operations in Python"
   ]
  },
  {
   "cell_type": "code",
   "execution_count": 14,
   "metadata": {},
   "outputs": [
    {
     "data": {
      "text/plain": [
       "str"
      ]
     },
     "execution_count": 14,
     "metadata": {},
     "output_type": "execute_result"
    }
   ],
   "source": [
    "3 + 5 \n",
    "7 - 3\n",
    "7 * 2\n",
    "\n",
    "# when you divide you always get a float\n",
    "7 / 3\n",
    "\n",
    "# the power of \n",
    "**"
   ]
  },
  {
   "cell_type": "markdown",
   "metadata": {},
   "source": [
    "PEMDAS (ORDER OF OPERATIONS) Calculation goes from left to right\n",
    "- PARENTHESES\n",
    "- EXPONENTS\n",
    "- MULTIPLICATION, DIVISION\n",
    "- ADDITION, SUBSTRACTION"
   ]
  },
  {
   "cell_type": "code",
   "execution_count": 1,
   "metadata": {},
   "outputs": [
    {
     "name": "stdout",
     "output_type": "stream",
     "text": [
      "7.0\n"
     ]
    }
   ],
   "source": [
    "print(3 * 3 + 3 / 3 - 3)"
   ]
  },
  {
   "cell_type": "code",
   "execution_count": 4,
   "metadata": {},
   "outputs": [
    {
     "name": "stdout",
     "output_type": "stream",
     "text": [
      "3.0\n"
     ]
    }
   ],
   "source": [
    "# produce the number 3\n",
    "# solution put paranthesis around the 3 + 3\n",
    "print(3 * (3 + 3) / 3 - 3)"
   ]
  },
  {
   "cell_type": "markdown",
   "metadata": {},
   "source": [
    "#### Interactive Coding Exercise BMI\n",
    "- Write a program that calculates the Body Mass Index (BMI) from a user's weight and height.\n",
    "- The BMI is a measure of some's weight taking into account their height. e.g. If a tall person and a short person both weigh the same amount, the short person is usually more overweight.\n",
    "- The BMI is calculated by dividing a person's weight (in kg) by the square of their height (in m):\n"
   ]
  },
  {
   "cell_type": "code",
   "execution_count": 2,
   "metadata": {},
   "outputs": [
    {
     "name": "stdout",
     "output_type": "stream",
     "text": [
      "26\n"
     ]
    }
   ],
   "source": [
    "# 🚨 Don't change the code below 👇\n",
    "height = input(\"enter your height in m: \")\n",
    "weight = input(\"enter your weight in kg: \")\n",
    "# 🚨 Don't change the code above 👆\n",
    "\n",
    "bmi = int(weight) / float(height)** 2\n",
    "print(int(bmi))\n",
    "\n",
    "#Write your code below this line 👇"
   ]
  },
  {
   "cell_type": "markdown",
   "metadata": {},
   "source": [
    "#### Number Manipulation and F String in Python"
   ]
  },
  {
   "cell_type": "code",
   "execution_count": 30,
   "metadata": {},
   "outputs": [
    {
     "name": "stdout",
     "output_type": "stream",
     "text": [
      "2.67\n"
     ]
    }
   ],
   "source": [
    "# round the last number is how many decimal spaces you want\n",
    "\n",
    "print(round(8/ 3, 2))"
   ]
  },
  {
   "cell_type": "code",
   "execution_count": null,
   "metadata": {},
   "outputs": [],
   "source": [
    "## floor division turns into into a int with out the int function\n",
    "\n",
    "print(8// 3)"
   ]
  },
  {
   "cell_type": "code",
   "execution_count": 33,
   "metadata": {},
   "outputs": [
    {
     "name": "stdout",
     "output_type": "stream",
     "text": [
      "1.0\n"
     ]
    }
   ],
   "source": [
    "result = 4/ 2\n",
    "# divide by 2 again\n",
    "result /= 2\n",
    "print(result)"
   ]
  },
  {
   "cell_type": "code",
   "execution_count": 34,
   "metadata": {},
   "outputs": [
    {
     "name": "stdout",
     "output_type": "stream",
     "text": [
      "1\n"
     ]
    }
   ],
   "source": [
    "score = 0\n",
    "\n",
    "# user scores a point\n",
    "# can use +=, -=, *=, /=\n",
    "\n",
    "score += 1\n",
    "print(score)"
   ]
  },
  {
   "cell_type": "code",
   "execution_count": 36,
   "metadata": {},
   "outputs": [
    {
     "name": "stdout",
     "output_type": "stream",
     "text": [
      "your score is 0, your height is 1.8, you are winning is True\n"
     ]
    }
   ],
   "source": [
    "score = 0\n",
    "height = 1.8\n",
    "isWinning = True\n",
    "\n",
    "# f string\n",
    "# you dont have to convert the data types\n",
    "\n",
    "print(f\"your score is {score}, your height is {height}, you are winning is {isWinning}\")"
   ]
  },
  {
   "cell_type": "markdown",
   "metadata": {},
   "source": [
    "#### Interactive Coding Exercise Life in Weeks\n",
    "- I was reading this article by Tim Urban - Your Life in Weeks and realised just how little time we actually have.\n",
    "https://waitbutwhy.com/2014/05/life-weeks.html\n",
    "- Create a program using maths and f-Strings that tells us how many days, weeks, months we have left if we live until 90 years old.\n",
    "- It will take your current age as the input and output a message with our time left in this format:\n",
    "- You have x days, y weeks, and z months left.\n",
    "- Where x, y and z are replaced with the actual calculated numbers.\n",
    "- Warning your output should match the Example Output format exactly, even the positions of the commas and full stops.\n",
    "\n"
   ]
  },
  {
   "cell_type": "code",
   "execution_count": 52,
   "metadata": {},
   "outputs": [
    {
     "name": "stdout",
     "output_type": "stream",
     "text": [
      "You have 8395 days, 1196 weeks, and 276 months left\n"
     ]
    }
   ],
   "source": [
    "# 1 year = 365 days\n",
    "# 1 year = 52 weeks\n",
    "# 1 year = 12 months\n",
    "\n",
    "age = input(\"What is your current age?\")\n",
    "target_age = input(\"How long do you want to live till?\")\n",
    "\n",
    "days = int(target_age)* 365 - int(age)* 365\n",
    "weeks = int(target_age)* 52 - int(age)* 52\n",
    "months = int(target_age)* 12 - int(age)* 12\n",
    "print(f\"You have {days} days, {weeks} weeks, and {months} months left\")"
   ]
  }
 ],
 "metadata": {
  "interpreter": {
   "hash": "aee8b7b246df8f9039afb4144a1f6fd8d2ca17a180786b69acc140d282b71a49"
  },
  "kernelspec": {
   "display_name": "Python 3.10.5 64-bit",
   "language": "python",
   "name": "python3"
  },
  "language_info": {
   "codemirror_mode": {
    "name": "ipython",
    "version": 3
   },
   "file_extension": ".py",
   "mimetype": "text/x-python",
   "name": "python",
   "nbconvert_exporter": "python",
   "pygments_lexer": "ipython3",
   "version": "3.10.5"
  },
  "orig_nbformat": 4
 },
 "nbformat": 4,
 "nbformat_minor": 2
}
