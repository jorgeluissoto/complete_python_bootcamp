{
 "cells": [
  {
   "cell_type": "markdown",
   "metadata": {},
   "source": [
    "#### Using the for loop with python lists"
   ]
  },
  {
   "cell_type": "code",
   "execution_count": 2,
   "metadata": {},
   "outputs": [
    {
     "name": "stdout",
     "output_type": "stream",
     "text": [
      "apple\n",
      "apple Pie\n",
      "peach\n",
      "peach Pie\n",
      "pear\n",
      "pear Pie\n"
     ]
    }
   ],
   "source": [
    "fruits = [\"apple\", \"peach\", \"pear\"]\n",
    "for fruit in fruits:\n",
    "    print(fruit)\n",
    "    print(fruit + \" Pie\")\n",
    "\n",
    "# for loops allows us to print multiple process over and over"
   ]
  },
  {
   "cell_type": "code",
   "execution_count": 3,
   "metadata": {},
   "outputs": [
    {
     "name": "stdout",
     "output_type": "stream",
     "text": [
      "apple\n",
      "apple Pie\n",
      "peach\n",
      "peach Pie\n",
      "pear\n",
      "pear Pie\n",
      "['apple', 'peach', 'pear']\n"
     ]
    }
   ],
   "source": [
    "fruits = [\"apple\", \"peach\", \"pear\"]\n",
    "for fruit in fruits:\n",
    "    print(fruit)\n",
    "    print(fruit + \" Pie\")\n",
    "print(fruits)\n",
    "\n",
    "# the last print statement is outside the for loop that is very important going forward"
   ]
  },
  {
   "cell_type": "markdown",
   "metadata": {},
   "source": [
    "#### Coding Exercise: Average Height\n",
    "- You are going to write a program that calculates the average student height from a List of heights.\n",
    "- The average height can be calculated by adding all the heights together and dividing by the total number of heights.\n",
    "- Important You should not use the sum() or len() functions in your answer. You should try to replicate their functionality using what you have learnt about for loops."
   ]
  },
  {
   "cell_type": "code",
   "execution_count": 32,
   "metadata": {},
   "outputs": [
    {
     "name": "stdout",
     "output_type": "stream",
     "text": [
      "171\n"
     ]
    }
   ],
   "source": [
    "# 🚨 Don't change the code below 👇\n",
    "student_heights = input(\"Input a list of student heights \").split()\n",
    "for n in range(0, len(student_heights)):\n",
    "  student_heights[n] = int(student_heights[n])\n",
    "# 🚨 Don't change the code above 👆\n",
    "\n",
    "\n",
    "#Write your code below this row 👇\n",
    "# sum\n",
    "total_height=0\n",
    "for height in student_heights:\n",
    "    total_height+= height\n",
    "\n",
    "# len\n",
    "number_of_student = 0\n",
    "for student in student_heights:\n",
    "    number_of_student+= 1\n",
    "\n",
    "# total/ by number of students\n",
    "average_height = total_height/ number_of_student\n",
    "print(round(average_height))\n",
    "\n"
   ]
  },
  {
   "cell_type": "markdown",
   "metadata": {},
   "source": [
    "#### Coding Exercise: High Score\n",
    "- You are going to write a program that calculates the highest score from a List of scores.\n",
    "---\n",
    "- Important you are not allowed to use the max or min functions. \n",
    "---\n",
    "- The output words must match the example. i.e\n",
    "The highest score in the class is: x\n"
   ]
  },
  {
   "cell_type": "code",
   "execution_count": 6,
   "metadata": {},
   "outputs": [
    {
     "name": "stdout",
     "output_type": "stream",
     "text": [
      "The highest score in the class is: 91\n"
     ]
    }
   ],
   "source": [
    "# 🚨 Don't change the code below 👇\n",
    "student_scores = input(\"Input a list of student scores \").split()\n",
    "for n in range(0, len(student_scores)):\n",
    "  student_scores[n] = int(student_scores[n])\n",
    "#print(student_scores)\n",
    "# 🚨 Don't change the code above 👆\n",
    "\n",
    "# max\n",
    "highest_number = 0\n",
    "\n",
    "for student in student_scores:\n",
    "    if student > highest_number:\n",
    "        highest_number = student\n",
    "print(f\"The highest score in the class is: {highest_number}\")\n",
    "# 78 65 89 86 55 91 64 89\n",
    "#Write your code below this row 👇"
   ]
  },
  {
   "cell_type": "markdown",
   "metadata": {},
   "source": [
    "#### For loops and the range() function"
   ]
  },
  {
   "cell_type": "code",
   "execution_count": 2,
   "metadata": {},
   "outputs": [
    {
     "name": "stdout",
     "output_type": "stream",
     "text": [
      "1\n",
      "4\n",
      "7\n",
      "10\n"
     ]
    }
   ],
   "source": [
    "# start, stop, step\n",
    "\n",
    "for number in range(1, 11,3 ):\n",
    "    print(number)"
   ]
  },
  {
   "cell_type": "code",
   "execution_count": 4,
   "metadata": {},
   "outputs": [
    {
     "name": "stdout",
     "output_type": "stream",
     "text": [
      "5050\n"
     ]
    }
   ],
   "source": [
    "# sum 1 - 100\n",
    "\n",
    "total = 0\n",
    "\n",
    "for number in range(1,101):\n",
    "    total+= number\n",
    "print(total)"
   ]
  },
  {
   "cell_type": "markdown",
   "metadata": {},
   "source": [
    "#### Coding Exercise: Adding Even Numbers\n",
    "- You are going to write a program that calculates the sum of all the even numbers from 1 to 100. Thus, the first even number would be 2 and the last \n",
    "one is 100:\n",
    "---\n",
    "- i.e. 2 + 4 + 6 + 8 +10 ... + 98 + 100\n",
    "---\n",
    "Important, there should only be 1 print statement in your console output. It should just print the final total and not every step of the calculation."
   ]
  },
  {
   "cell_type": "code",
   "execution_count": 9,
   "metadata": {},
   "outputs": [
    {
     "name": "stdout",
     "output_type": "stream",
     "text": [
      "2550\n"
     ]
    }
   ],
   "source": [
    "total_even = 0\n",
    "\n",
    "for number in range(2,101,2):\n",
    "    total_even += number\n",
    "print(total_even)"
   ]
  },
  {
   "cell_type": "code",
   "execution_count": null,
   "metadata": {},
   "outputs": [],
   "source": [
    "# Another way to solve the problem\n",
    "\n",
    "total_even = 0\n",
    "\n",
    "for number in range(2,101,2):\n",
    "    if number %2 ==0:\n",
    "        total_even += number\n",
    "print(total_even)"
   ]
  },
  {
   "cell_type": "markdown",
   "metadata": {},
   "source": [
    "#### Coding Exercise: The FizzBuzz Job Interview Questions\n",
    "- You are going to write a program that automatically prints the solution to the FizzBuzz game.\n",
    "- Your program should print each number from 1 to 100 in turn.\n",
    "---\n",
    "- When the number is divisible by 3 then instead of printing the number it should print \"Fizz\".\n",
    "---\n",
    "- When the number is divisible by 5, then instead of printing the number it should print \"Buzz\".\n",
    "---\n",
    "- And if the number is divisible by both 3 and 5 e.g. 15 then instead of the number it should print       \"FizzBuzz\""
   ]
  },
  {
   "cell_type": "code",
   "execution_count": 45,
   "metadata": {},
   "outputs": [
    {
     "name": "stdout",
     "output_type": "stream",
     "text": [
      "1\n",
      "2\n",
      "Fizz\n",
      "4\n",
      "Buzz\n",
      "Fizz\n",
      "7\n",
      "8\n",
      "Fizz\n",
      "Buzz\n",
      "11\n",
      "Fizz\n",
      "13\n",
      "14\n",
      "FizzBuzz\n",
      "16\n",
      "17\n",
      "Fizz\n",
      "19\n",
      "Buzz\n",
      "Fizz\n",
      "22\n",
      "23\n",
      "Fizz\n",
      "Buzz\n",
      "26\n",
      "Fizz\n",
      "28\n",
      "29\n",
      "FizzBuzz\n",
      "31\n",
      "32\n",
      "Fizz\n",
      "34\n",
      "Buzz\n",
      "Fizz\n",
      "37\n",
      "38\n",
      "Fizz\n",
      "Buzz\n",
      "41\n",
      "Fizz\n",
      "43\n",
      "44\n",
      "FizzBuzz\n",
      "46\n",
      "47\n",
      "Fizz\n",
      "49\n",
      "Buzz\n",
      "Fizz\n",
      "52\n",
      "53\n",
      "Fizz\n",
      "Buzz\n",
      "56\n",
      "Fizz\n",
      "58\n",
      "59\n",
      "FizzBuzz\n",
      "61\n",
      "62\n",
      "Fizz\n",
      "64\n",
      "Buzz\n",
      "Fizz\n",
      "67\n",
      "68\n",
      "Fizz\n",
      "Buzz\n",
      "71\n",
      "Fizz\n",
      "73\n",
      "74\n",
      "FizzBuzz\n",
      "76\n",
      "77\n",
      "Fizz\n",
      "79\n",
      "Buzz\n",
      "Fizz\n",
      "82\n",
      "83\n",
      "Fizz\n",
      "Buzz\n",
      "86\n",
      "Fizz\n",
      "88\n",
      "89\n",
      "FizzBuzz\n",
      "91\n",
      "92\n",
      "Fizz\n",
      "94\n",
      "Buzz\n",
      "Fizz\n",
      "97\n",
      "98\n",
      "Fizz\n",
      "Buzz\n"
     ]
    }
   ],
   "source": [
    "# In this problem you need to put the %3 and %5 at the top because if its at the bottom of the code you will miss\n",
    "# them since a if elif statement block stops as soon as one of the if statement is True\n",
    "\n",
    "for value in range(1,101):\n",
    "    if value %3 ==0 and value %5 ==0:\n",
    "        print(\"FizzBuzz\")\n",
    "    elif value %3 ==0:\n",
    "        print(\"Fizz\")\n",
    "    elif value %5 ==0:\n",
    "        print(\"Buzz\")\n",
    "    else:\n",
    "        print(value)\n"
   ]
  }
 ],
 "metadata": {
  "interpreter": {
   "hash": "aee8b7b246df8f9039afb4144a1f6fd8d2ca17a180786b69acc140d282b71a49"
  },
  "kernelspec": {
   "display_name": "Python 3.10.5 64-bit",
   "language": "python",
   "name": "python3"
  },
  "language_info": {
   "codemirror_mode": {
    "name": "ipython",
    "version": 3
   },
   "file_extension": ".py",
   "mimetype": "text/x-python",
   "name": "python",
   "nbconvert_exporter": "python",
   "pygments_lexer": "ipython3",
   "version": "3.10.5"
  },
  "orig_nbformat": 4
 },
 "nbformat": 4,
 "nbformat_minor": 2
}
