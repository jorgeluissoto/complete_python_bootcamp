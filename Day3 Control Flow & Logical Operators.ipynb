{
 "cells": [
  {
   "cell_type": "markdown",
   "metadata": {},
   "source": [
    "#### Control Flow with if/ else and Conditional Operations"
   ]
  },
  {
   "cell_type": "code",
   "execution_count": null,
   "metadata": {},
   "outputs": [],
   "source": [
    "if condition:\n",
    "    do this\n",
    "else:\n",
    "    do this"
   ]
  },
  {
   "cell_type": "code",
   "execution_count": 6,
   "metadata": {},
   "outputs": [
    {
     "name": "stdout",
     "output_type": "stream",
     "text": [
      "Welcome to the rollercoaster!\n",
      "You can ride the rollercoaster!\n"
     ]
    }
   ],
   "source": [
    "print(\"Welcome to the rollercoaster!\")\n",
    "height = int(input(\"What is your height in cm? \"))\n",
    "\n",
    "if height >= 120:\n",
    "    print(\"You can ride the rollercoaster!\")\n",
    "else:\n",
    "    print(\"Sorry! You have to grow taller before you can ride.\")"
   ]
  },
  {
   "cell_type": "code",
   "execution_count": 1,
   "metadata": {},
   "outputs": [
    {
     "name": "stdout",
     "output_type": "stream",
     "text": [
      "Continue\n"
     ]
    }
   ],
   "source": [
    "water_level = 50\n",
    "if water_level > 80:\n",
    "    print(\"Drain Water\")\n",
    "else:\n",
    "    print(\"Continue\")"
   ]
  },
  {
   "cell_type": "markdown",
   "metadata": {},
   "source": [
    "- Assignment requires 1 (=)\n",
    "- Check Equality requires 2 (==) will produce a True or False"
   ]
  },
  {
   "cell_type": "markdown",
   "metadata": {},
   "source": [
    "#### Interactive Coding Exercise: Odd or Even? Introducing the Modulo\n",
    "- Write a program that works out whether if a given number is an odd or even number.\n",
    "- The modulo is written as a percentage sign (%) in Python. It gives you the remainder after a division."
   ]
  },
  {
   "cell_type": "code",
   "execution_count": 11,
   "metadata": {},
   "outputs": [
    {
     "name": "stdout",
     "output_type": "stream",
     "text": [
      "That is an Odd number.\n"
     ]
    }
   ],
   "source": [
    "# 🚨 Don't change the code below 👇\n",
    "number = int(input(\"Which number do you want to check? \"))\n",
    "# 🚨 Don't change the code above 👆\n",
    "\n",
    "#Write your code below this line 👇\n",
    "check = number % 2\n",
    "if check == 0:\n",
    "    print(\"This is an even number!\")\n",
    "else:\n",
    "    print(\"This is an odd number!\")"
   ]
  },
  {
   "cell_type": "markdown",
   "metadata": {},
   "source": [
    "#### Nested if statement and elif statement"
   ]
  },
  {
   "cell_type": "code",
   "execution_count": null,
   "metadata": {},
   "outputs": [],
   "source": [
    "if condition:\n",
    "    if another condition\n",
    "        do this\n",
    "    else:\n",
    "        do this\n",
    "else:\n",
    "    do this"
   ]
  },
  {
   "cell_type": "code",
   "execution_count": null,
   "metadata": {},
   "outputs": [],
   "source": [
    "# you can have as many elif statement (if/ elif/ else)\n",
    "if condition1:\n",
    "    do A \n",
    "elif condition2:\n",
    "    do B \n",
    "else:\n",
    "    do this"
   ]
  },
  {
   "cell_type": "code",
   "execution_count": 3,
   "metadata": {},
   "outputs": [
    {
     "name": "stdout",
     "output_type": "stream",
     "text": [
      "Welcome to the rollercoaster!\n",
      "You can ride the rollercoaster!\n",
      "Please pay $12\n"
     ]
    }
   ],
   "source": [
    "print(\"Welcome to the rollercoaster!\")\n",
    "height = int(input(\"What is your height in cm? \"))\n",
    "age = int(input(\"What is your age?\"))\n",
    "\n",
    "if height >= 120:\n",
    "    print(\"You can ride the rollercoaster!\")\n",
    "    if age < 12:\n",
    "        print(\"Please pay $5.\")\n",
    "    elif age <= 18:\n",
    "        print(\"Please pay $7\")\n",
    "    else:\n",
    "        print(\"Please pay $12\")\n",
    "else:\n",
    "    print(\"Sorry! You have to grow taller before you can ride.\")"
   ]
  },
  {
   "cell_type": "markdown",
   "metadata": {},
   "source": [
    "#### Interactive Coding Exercise: BMI 2.0\n",
    "- Write a program that interprets the Body Mass Index (BMI) based on a user's weight and height.\n",
    "- It should tell them the interpretation of their BMI based on the BMI value.\n",
    "- Under 18.5 they are underweight\n",
    "- Over 18.5 but below 25 they have a normal weight\n",
    "- Over 25 but below 30 they are slightly overweight\n",
    "- Over 30 but below 35 they are obese\n",
    "- Above 35 they are clinically obese."
   ]
  },
  {
   "cell_type": "code",
   "execution_count": 19,
   "metadata": {},
   "outputs": [
    {
     "name": "stdout",
     "output_type": "stream",
     "text": [
      "39\n",
      "Your BMI is 39 you are clinically obese\n"
     ]
    }
   ],
   "source": [
    "# 🚨 Don't change the code below 👇\n",
    "height = float(input(\"enter your height in m: \"))\n",
    "weight = int(input(\"enter your weight in kg: \"))\n",
    "# 🚨 Don't change the code above 👆\n",
    "\n",
    "bmi = round(weight / height** 2)\n",
    "bmi_int = int(bmi)\n",
    "\n",
    "if bmi_int <= 18.5:\n",
    "    print(f\"Your BMI is {bmi_int}, you are underweight\")\n",
    "elif bmi_int <= 25:\n",
    "    print(f\"Your BMI is {bmi_int}, you are normal\")\n",
    "elif bmi_int <= 30:\n",
    "    print(f\"Your BMI is {bmi_int}, you are overweight\")\n",
    "elif bmi_int <= 35:\n",
    "    print(f\"Your BMI is {bmi_int}, you are obese\")\n",
    "else:\n",
    "    print(f\"Your BMI is {bmi_int}, you are clinically obese\")\n",
    "\n",
    "#Write your code below this line 👇"
   ]
  },
  {
   "cell_type": "markdown",
   "metadata": {},
   "source": [
    "#### Interactive Coding Exercise: Leap Year\n",
    "- Write a program that works out whether if a given year is a leap year. A normal year has 365 days, leap years have 366, with an extra day in February. The reason why we have leap years is really fascinating, this video does it more justice:\n",
    "\n",
    "- This is how you work out whether if a particular year is a leap year.\n",
    "    -  on every year that is evenly divisible by 4 \n",
    "    -  **except** every year that is evenly divisible by 100 \n",
    "    -  **unless** the year is also evenly divisible by 400"
   ]
  },
  {
   "cell_type": "code",
   "execution_count": 28,
   "metadata": {},
   "outputs": [
    {
     "name": "stdout",
     "output_type": "stream",
     "text": [
      "Leap year\n"
     ]
    }
   ],
   "source": [
    "# 🚨 Don't change the code below 👇\n",
    "year = int(input(\"Which year do you want to check? \"))\n",
    "# 🚨 Don't change the code above 👆\n",
    "\n",
    "div4 = year% 4\n",
    "div100 = year% 100\n",
    "div400 = year% 400\n",
    "\n",
    "if div4 == 0:\n",
    "    if div100 ==0:\n",
    "        if div400 ==0:  \n",
    "            print(\"Leap Year\")\n",
    "        else:\n",
    "            print(\"Not leap year\")\n",
    "    else:\n",
    "            print(\"Leap year\")\n",
    "else:\n",
    "    print(\"Not a Leap Year\")"
   ]
  },
  {
   "cell_type": "code",
   "execution_count": 27,
   "metadata": {},
   "outputs": [
    {
     "name": "stdout",
     "output_type": "stream",
     "text": [
      "Not leap year\n"
     ]
    }
   ],
   "source": [
    "# 🚨 Don't change the code below 👇\n",
    "year = int(input(\"Which year do you want to check? \"))\n",
    "# 🚨 Don't change the code above 👆\n",
    "\n",
    "if year %4 ==0:\n",
    "    if year %100 ==0:\n",
    "        if year %400 ==0:\n",
    "            print(\"Leap year\")\n",
    "        else:\n",
    "            print(\"Not leap year\")\n",
    "    else:\n",
    "        print(\"Leap year\")\n",
    "else:\n",
    "    print(\"Not leap year\")"
   ]
  },
  {
   "cell_type": "markdown",
   "metadata": {},
   "source": [
    "#### Multiple If statement in Succession"
   ]
  },
  {
   "cell_type": "code",
   "execution_count": null,
   "metadata": {},
   "outputs": [],
   "source": [
    "# Multiple if ( all 3 conditions are checked and if all true all are executed)\n",
    "\n",
    "if condition1:\n",
    "    do A \n",
    "if condition2:\n",
    "    do B \n",
    "if condition3:\n",
    "    do C "
   ]
  },
  {
   "cell_type": "code",
   "execution_count": 2,
   "metadata": {},
   "outputs": [
    {
     "name": "stdout",
     "output_type": "stream",
     "text": [
      "Welcome to the rollercoaster!\n",
      "You can ride the rollercoaster!\n",
      "Your final bill is 15\n"
     ]
    }
   ],
   "source": [
    "print(\"Welcome to the rollercoaster!\")\n",
    "height = int(input(\"What is your height in cm? \"))\n",
    "age = int(input(\"What is your age?\"))\n",
    "bill = 0\n",
    "\n",
    "if height >= 120:\n",
    "    print(\"You can ride the rollercoaster!\")\n",
    "    if age < 12:\n",
    "        bill = 5\n",
    "    elif age <= 18:\n",
    "        bill = 7\n",
    "    else:\n",
    "        bill = 12\n",
    "        \n",
    "wants_photo = input(\"Do you want a photo taken? Y or N.\")\n",
    "if wants_photo == \"Y\":\n",
    "    bill += 3\n",
    "    print(f\"Your final bill is ${bill}\")\n",
    "\n",
    "else:\n",
    "    print(\"Sorry! You have to grow taller before you can ride.\")"
   ]
  },
  {
   "cell_type": "markdown",
   "metadata": {},
   "source": [
    "#### Interactive Coding Exercise: Pizza Order\n",
    "- Based on a user's order, work out their final bill.\n",
    "---\n",
    "    - Small Pizza: $15\n",
    "    - Medium Pizza: $20\n",
    "    - Large Pizza: $25\n",
    "---\n",
    "    - Pepperoni for Small Pizza: +$2\n",
    "    - Pepperoni for Medium or Large Pizza: +$3\n",
    "---\n",
    "    - Extra cheese for any size pizza: + $1"
   ]
  },
  {
   "cell_type": "code",
   "execution_count": 8,
   "metadata": {},
   "outputs": [
    {
     "name": "stdout",
     "output_type": "stream",
     "text": [
      "Welcome to Python Pizza Deliveries!\n",
      "Your final bill is: $29\n"
     ]
    }
   ],
   "source": [
    "# 🚨 Don't change the code below 👇\n",
    "print(\"Welcome to Python Pizza Deliveries!\")\n",
    "size = input(\"What size pizza do you want? S, M, or L \")\n",
    "add_pepperoni = input(\"Do you want pepperoni? Y or N \")\n",
    "extra_cheese = input(\"Do you want extra cheese? Y or N \")\n",
    "# 🚨 Don't change the code above 👆\n",
    "bill = 0\n",
    "\n",
    "if size == \"S\":\n",
    "    bill = 15\n",
    "    if add_pepperoni == \"Y\":\n",
    "        bill +=2\n",
    "elif size == \"M\":\n",
    "    bill = 20\n",
    "    if add_pepperoni == \"Y\":\n",
    "        bill +=3\n",
    "elif size == \"L\":\n",
    "    bill = 25\n",
    "    if add_pepperoni == \"Y\":\n",
    "        bill +=3\n",
    "\n",
    "if extra_cheese == \"Y\":\n",
    "    bill += 1\n",
    "\n",
    "print(f\"Your final bill is: ${bill}\")\n",
    "#Write your code below this line 👇"
   ]
  },
  {
   "cell_type": "code",
   "execution_count": null,
   "metadata": {},
   "outputs": [],
   "source": [
    "# Teacher code Answer\n",
    "\n",
    "# 🚨 Don't change the code below 👇\n",
    "print(\"Welcome to Python Pizza Deliveries!\")\n",
    "size = input(\"What size pizza do you want? S, M, or L \")\n",
    "add_pepperoni = input(\"Do you want pepperoni? Y or N \")\n",
    "extra_cheese = input(\"Do you want extra cheese? Y or N \")\n",
    "# 🚨 Don't change the code above 👆\n",
    "\n",
    "#Write your code below this line 👇\n",
    "\n",
    "bill = 0\n",
    "\n",
    "if size == \"S\":\n",
    "  bill += 15\n",
    "elif size == \"M\":\n",
    "  bill += 20\n",
    "else:\n",
    "  bill += 25\n",
    "\n",
    "if add_pepperoni == \"Y\":\n",
    "  if size == \"S\":\n",
    "    bill += 2\n",
    "  else:\n",
    "    bill += 3\n",
    "    \n",
    "if extra_cheese == \"Y\":\n",
    "  bill += 1\n",
    "  \n",
    "print(f\"Your final bill is: ${bill}.\")"
   ]
  },
  {
   "cell_type": "markdown",
   "metadata": {},
   "source": [
    "#### Logical Operators"
   ]
  },
  {
   "cell_type": "code",
   "execution_count": null,
   "metadata": {},
   "outputs": [],
   "source": [
    "if condition1 & condition2 & condition3:\n",
    "    do this\n",
    "else:\n",
    "    do this\n",
    "\n",
    "A and B (both have to be True)\n",
    "C or D (either one is True or both or True...you get False only when both are False)\n",
    "not E (if flips True to False and False to True)"
   ]
  },
  {
   "cell_type": "code",
   "execution_count": 11,
   "metadata": {},
   "outputs": [
    {
     "name": "stdout",
     "output_type": "stream",
     "text": [
      "Welcome to the rollercoaster!\n",
      "You can ride the rollercoaster!\n",
      "Everything is going to be ok. Have a free ride on us!\n",
      "Your final bill is $3\n"
     ]
    }
   ],
   "source": [
    "# Add age 45 - 55 get in for FREE!\n",
    "\n",
    "print(\"Welcome to the rollercoaster!\")\n",
    "height = int(input(\"What is your height in cm? \"))\n",
    "age = int(input(\"What is your age?\"))\n",
    "bill = 0\n",
    "\n",
    "if height >= 120:\n",
    "    print(\"You can ride the rollercoaster!\")\n",
    "    if age < 12:\n",
    "        bill = 5\n",
    "    elif age <= 18:\n",
    "        bill = 7\n",
    "    # Add age 45 - 55 get in for FREE!\n",
    "    elif age >= 45 and age <=55:\n",
    "        print(\"Everything is going to be ok. Have a free ride on us!\")\n",
    "    else:\n",
    "        bill = 12\n",
    "        \n",
    "wants_photo = input(\"Do you want a photo taken? Y or N.\")\n",
    "if wants_photo == \"Y\":\n",
    "    bill += 3\n",
    "    print(f\"Your final bill is ${bill}\")"
   ]
  },
  {
   "cell_type": "markdown",
   "metadata": {},
   "source": [
    "#### Love Calculator\n",
    "- You are going to write a program that tests the compatibility between two people.\n",
    "- To work out the love score between two people:\n",
    "    - Take both people's names and check for the number of times the letters in the word TRUE occurs. \n",
    "    - Then check for the number of times the letters in the word LOVE occurs. \n",
    "    - Then combine these numbers to make a 2 digit number.\n",
    "---\n",
    "- For Love Scores less than 10 or greater than 90, the message should be:\n",
    "    - \"Your score is **x**, you go together like coke and mentos.\"\n",
    "---\n",
    "- For Love Scores between 40 and 50, the message should be:\n",
    "    - \"Your score is **y**, you are alright together.\"\n",
    "---\n",
    "- Otherwise, the message will just be their score. e.g.:\n",
    "    - \"Your score is **z**.\"\n",
    "---\n",
    "- Hint\n",
    "    - The lower() function changes all the letters in a string to lower case.\n",
    "    - The count() function will give you the number of times a letter occurs in a string.\n"
   ]
  },
  {
   "cell_type": "code",
   "execution_count": 20,
   "metadata": {},
   "outputs": [
    {
     "name": "stdout",
     "output_type": "stream",
     "text": [
      "Welcome to the Love Calculator!\n",
      "Your score is 46, you are alright together\n"
     ]
    }
   ],
   "source": [
    "# 🚨 Don't change the code below 👇\n",
    "print(\"Welcome to the Love Calculator!\")\n",
    "name1 = input(\"What is your name? \\n\")\n",
    "name2 = input(\"What is their name? \\n\")\n",
    "# 🚨 Don't change the code above 👆\n",
    "\n",
    "name_lower1 = name1.lower()\n",
    "name_lower2 = name2.lower()\n",
    "\n",
    "name1_t = name_lower1.count(\"t\")\n",
    "name1_r = name_lower1.count(\"r\")\n",
    "name1_u = name_lower1.count(\"u\")\n",
    "name1_e = name_lower1.count(\"e\")\n",
    "\n",
    "true_count1 = name1_t + name1_r + name1_u + name1_e\n",
    "\n",
    "name2_t = name_lower2.count(\"t\")\n",
    "name2_r = name_lower2.count(\"r\")\n",
    "name2_u = name_lower2.count(\"u\")\n",
    "name2_e = name_lower2.count(\"e\")\n",
    "\n",
    "true_count2 = name2_t + name2_r + name2_u + name2_e\n",
    "\n",
    "name1_l = name_lower1.count(\"l\")\n",
    "name1_o = name_lower1.count(\"o\")\n",
    "name1_v = name_lower1.count(\"v\")\n",
    "name1_ee = name_lower1.count(\"e\")\n",
    "\n",
    "love_count1 = name1_l + name1_o + name1_v + name1_ee\n",
    "\n",
    "name2_l = name_lower2.count(\"l\")\n",
    "name2_o = name_lower2.count(\"o\")\n",
    "name2_v = name_lower2.count(\"v\")\n",
    "name2_ee = name_lower2.count(\"e\")\n",
    "\n",
    "love_count2 = name2_l + name2_o + name2_v + name2_ee\n",
    "\n",
    "total_true = true_count1 + true_count2\n",
    "\n",
    "total_love = love_count1 + love_count2\n",
    "\n",
    "total_score = str(total_true) + str(total_love)\n",
    "total_score_int = int(total_score)\n",
    "\n",
    "if total_score_int <= 10 and total_score_int >= 90:\n",
    "    print(f\"Your score is {total_score}, you go together like coke and mentos\")\n",
    "elif total_score_int >40 and total_score_int <50:\n",
    "    print(f\"Your score is {total_score}, you are alright together\")\n",
    "else:\n",
    "    print(f\"Your score is {total_score}\")\n",
    "\n",
    "#Write your code below this line 👇"
   ]
  },
  {
   "cell_type": "code",
   "execution_count": 3,
   "metadata": {},
   "outputs": [
    {
     "name": "stdout",
     "output_type": "stream",
     "text": [
      "Welcome to the Love Calculator!\n",
      "Your score is 42, you are alright together\n"
     ]
    }
   ],
   "source": [
    "# Teacher Answer\n",
    "\n",
    "# 🚨 Don't change the code below 👇\n",
    "print(\"Welcome to the Love Calculator!\")\n",
    "name1 = input(\"What is your name? \\n\")\n",
    "name2 = input(\"What is their name? \\n\")\n",
    "# 🚨 Don't change the code above 👆\n",
    "combined_name = name1 + name2\n",
    "lower_case_string = combined_name.lower()\n",
    "\n",
    "t = lower_case_string.count('t')\n",
    "r = lower_case_string.count('r')\n",
    "u = lower_case_string.count('u')\n",
    "e = lower_case_string.count('e')\n",
    "\n",
    "true = t+ r+ u+ e\n",
    "\n",
    "l = lower_case_string.count('l')\n",
    "o = lower_case_string.count('o')\n",
    "v = lower_case_string.count('v')\n",
    "e = lower_case_string.count('e')\n",
    "\n",
    "love = l+ o+ v+ e\n",
    "\n",
    "love_score = int(str(true) + str(love))\n",
    "\n",
    "\n",
    "if love_score <= 10 and love_score >= 90:\n",
    "    print(f\"Your score is {love_score}, you go together like coke and mentos\")\n",
    "elif love_score >=40 and love_score <=50:\n",
    "    print(f\"Your score is {love_score}, you are alright together\")\n",
    "else:\n",
    "    print(f\"Your score is {love_score}\")\n"
   ]
  }
 ],
 "metadata": {
  "interpreter": {
   "hash": "aee8b7b246df8f9039afb4144a1f6fd8d2ca17a180786b69acc140d282b71a49"
  },
  "kernelspec": {
   "display_name": "Python 3.10.5 64-bit",
   "language": "python",
   "name": "python3"
  },
  "language_info": {
   "codemirror_mode": {
    "name": "ipython",
    "version": 3
   },
   "file_extension": ".py",
   "mimetype": "text/x-python",
   "name": "python",
   "nbconvert_exporter": "python",
   "pygments_lexer": "ipython3",
   "version": "3.10.5"
  },
  "orig_nbformat": 4
 },
 "nbformat": 4,
 "nbformat_minor": 2
}
