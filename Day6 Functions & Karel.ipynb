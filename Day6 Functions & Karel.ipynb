{
 "cells": [
  {
   "cell_type": "markdown",
   "metadata": {},
   "source": [
    "#### Functions"
   ]
  },
  {
   "cell_type": "code",
   "execution_count": 3,
   "metadata": {},
   "outputs": [
    {
     "name": "stdout",
     "output_type": "stream",
     "text": [
      "Hello\n",
      "Bye\n"
     ]
    }
   ],
   "source": [
    "def my_functions():\n",
    "    print(\"Hello\")\n",
    "    print(\"Bye\")\n",
    "\n",
    "my_functions()"
   ]
  },
  {
   "cell_type": "code",
   "execution_count": null,
   "metadata": {},
   "outputs": [],
   "source": [
    "def name():\n",
    "    Do this\n",
    "    Then do this\n",
    "    Finally do this\n",
    "\n",
    "Then call function\n",
    "name()"
   ]
  },
  {
   "cell_type": "markdown",
   "metadata": {},
   "source": [
    "#### Indentation"
   ]
  },
  {
   "cell_type": "code",
   "execution_count": null,
   "metadata": {},
   "outputs": [],
   "source": [
    "def name():\n",
    "    if x in y:\n",
    "        print(\"hello\")\n",
    "    elif x not in y:\n",
    "        print(\"Bye\")"
   ]
  },
  {
   "cell_type": "markdown",
   "metadata": {},
   "source": [
    "####  While loops\n",
    "- while something is true\n",
    "- Do something repeatedly\n",
    "---\n",
    "- For loops: Do something to each item\n",
    "---\n",
    "- While loops: Do something repeatedly\n",
    "- Infinite loop is a danger thing since your code will not stop"
   ]
  },
  {
   "cell_type": "code",
   "execution_count": null,
   "metadata": {},
   "outputs": [],
   "source": [
    "while something_is_true:\n",
    "    #Do this\n",
    "    #Then do this\n",
    "    #Then do this"
   ]
  },
  {
   "cell_type": "code",
   "execution_count": null,
   "metadata": {},
   "outputs": [],
   "source": [
    "# Hurdle 2\n",
    "\n",
    "def turn_right():\n",
    "    turn_left()\n",
    "    turn_left()\n",
    "    turn_left()\n",
    "    \n",
    "def jump():\n",
    "    move()\n",
    "    turn_left()\n",
    "    move()\n",
    "    turn_right()\n",
    "    move()\n",
    "    turn_right()\n",
    "    move()\n",
    "    turn_left()\n",
    "\n",
    "while at_goal() != True:\n",
    "    jump()"
   ]
  },
  {
   "cell_type": "code",
   "execution_count": null,
   "metadata": {},
   "outputs": [],
   "source": [
    "# Hurdle 3\n",
    "def turn_right():\n",
    "    turn_left()\n",
    "    turn_left()\n",
    "    turn_left()\n",
    "    \n",
    "def jump():\n",
    "    turn_left()\n",
    "    move()\n",
    "    turn_right()\n",
    "    move()\n",
    "    turn_right()\n",
    "    move()\n",
    "    turn_left()\n",
    "\n",
    "while not at_goal():\n",
    "    if wall_in_front():\n",
    "        jump()\n",
    "    else:\n",
    "        move()"
   ]
  },
  {
   "cell_type": "code",
   "execution_count": null,
   "metadata": {},
   "outputs": [],
   "source": [
    "# Hurdle 4\n",
    "def turn_right():\n",
    "    turn_left()\n",
    "    turn_left()\n",
    "    turn_left()\n",
    "    \n",
    "def jump():\n",
    "    turn_left()\n",
    "    while wall_on_right():\n",
    "        move()\n",
    "        \n",
    "    turn_right()\n",
    "    move()\n",
    "    turn_right()\n",
    "    \n",
    "    while front_is_clear():\n",
    "        move()\n",
    "    turn_left()\n",
    "\n",
    "while not at_goal():\n",
    "    if wall_in_front():\n",
    "        jump()\n",
    "    else:\n",
    "        move()"
   ]
  },
  {
   "cell_type": "markdown",
   "metadata": {},
   "source": [
    "#### Maze Challenge"
   ]
  },
  {
   "cell_type": "code",
   "execution_count": null,
   "metadata": {},
   "outputs": [],
   "source": [
    "# My Answer\n",
    "def turn_right():\n",
    "    turn_left()\n",
    "    turn_left()\n",
    "    turn_left()\n",
    "    \n",
    "def jump():\n",
    "    if right_is_clear():\n",
    "        turn_right()\n",
    "    elif front_is_clear():\n",
    "        move()\n",
    "    else:\n",
    "        turn_left()\n",
    "\n",
    "while not at_goal():\n",
    "    if wall_in_front():\n",
    "        jump()\n",
    "    else:\n",
    "        move()\n",
    "\n",
    "# Teacher Answer\n",
    "def turn_right():\n",
    "    turn_left()\n",
    "    turn_left()\n",
    "    turn_left()\n",
    "\n",
    "while not at_goal():\n",
    "    if right_is_clear():\n",
    "        turn_right()\n",
    "        move()\n",
    "    elif front_is_clear():\n",
    "        move()\n",
    "    else:\n",
    "        turn_left()"
   ]
  }
 ],
 "metadata": {
  "interpreter": {
   "hash": "7e1998ff7f8aa20ada591c520b972326324e5ea05489af9e422744c7c09f6dad"
  },
  "kernelspec": {
   "display_name": "Python 3.10.4 64-bit",
   "language": "python",
   "name": "python3"
  },
  "language_info": {
   "codemirror_mode": {
    "name": "ipython",
    "version": 3
   },
   "file_extension": ".py",
   "mimetype": "text/x-python",
   "name": "python",
   "nbconvert_exporter": "python",
   "pygments_lexer": "ipython3",
   "version": "3.10.4"
  },
  "orig_nbformat": 4
 },
 "nbformat": 4,
 "nbformat_minor": 2
}
