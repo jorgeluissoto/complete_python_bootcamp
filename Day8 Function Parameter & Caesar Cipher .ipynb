{
 "cells": [
  {
   "cell_type": "markdown",
   "metadata": {},
   "source": [
    "# Functions with Inputs"
   ]
  },
  {
   "cell_type": "code",
   "execution_count": 2,
   "metadata": {},
   "outputs": [
    {
     "name": "stdout",
     "output_type": "stream",
     "text": [
      "Hello\n",
      "Welcome Back\n",
      "Ahola\n"
     ]
    }
   ],
   "source": [
    "# Review: \n",
    "# Create a function called greet(). \n",
    "# Write 3 print statements inside the function.\n",
    "def greet ():\n",
    "    print(\"Hello\")\n",
    "    print(\"Welcome Back\")\n",
    "    print(\"How do you do?\")\n",
    "# Call the greet() function and run your code.\n",
    "greet()"
   ]
  },
  {
   "cell_type": "code",
   "execution_count": 4,
   "metadata": {},
   "outputs": [
    {
     "name": "stdout",
     "output_type": "stream",
     "text": [
      "Hello Jorge!\n",
      "Welcome Back Jorge!\n"
     ]
    }
   ],
   "source": [
    "# Functions that allow for input\n",
    "def greet_with_name(name):\n",
    "    print(f\"Hello {name}!\")\n",
    "    print(f\"Welcome Back {name}!\")\n",
    "\n",
    "greet_with_name(\"Jorge\")\n",
    "\n",
    "# argument is the data being passed in the code above that is \"Jorge\" and \"name\" is the parameter"
   ]
  },
  {
   "cell_type": "markdown",
   "metadata": {},
   "source": [
    "# Positional vs Keyword Arguments"
   ]
  },
  {
   "cell_type": "code",
   "execution_count": 5,
   "metadata": {},
   "outputs": [
    {
     "name": "stdout",
     "output_type": "stream",
     "text": [
      "Hello Jorge\n",
      "What is it like in Florida?\n"
     ]
    }
   ],
   "source": [
    "# Functions with multiple input\n",
    "def greet_with(name, location):\n",
    "    print(f\"Hello {name}\")\n",
    "    print(f\"What is it like in {location}?\")\n",
    "\n",
    "greet_with(\"Jorge\",\"Florida\")\n",
    "\n",
    "#Positional argument is the default way of calling functions \n",
    "# Order matters"
   ]
  },
  {
   "cell_type": "code",
   "execution_count": 9,
   "metadata": {},
   "outputs": [
    {
     "name": "stdout",
     "output_type": "stream",
     "text": [
      "Hello Jorge\n",
      "What is it like in Florida?\n"
     ]
    }
   ],
   "source": [
    "# Keyword Argument the order does not matter\n",
    "\n",
    "greet_with(location = \"Florida\", name = \"Jorge\")"
   ]
  },
  {
   "cell_type": "markdown",
   "metadata": {},
   "source": [
    "# Paint Area Calculator Exercise"
   ]
  },
  {
   "cell_type": "code",
   "execution_count": null,
   "metadata": {},
   "outputs": [],
   "source": [
    "\"\"\"\n",
    "You are painting a wall. The instructions on the paint can says that 1 can of paint can cover 5 square meters of wall. \n",
    "Given a random height and width of wall, calculate how many cans of paint you'll need to buy.\n",
    "number of cans = (wall height ✖️ wall width) ÷ coverage per can.\n",
    "e.g. Height = 2, Width = 4, Coverage = 5\n",
    "number of cans = (2 ✖️ 4) ÷ 5\n",
    "                     = 1.6\n",
    "But because you can't buy 0.6 of a can of paint, the result should be rounded up to 2 cans.\n",
    "IMPORTANT: Notice the name of the function and parameters must match those on line 13 for the code to work.\n",
    "👇👇👇👇👇👇👇\n",
    "\"\"\""
   ]
  },
  {
   "cell_type": "code",
   "execution_count": 15,
   "metadata": {},
   "outputs": [
    {
     "name": "stdout",
     "output_type": "stream",
     "text": [
      "You'll need 6 cans of paint\n"
     ]
    }
   ],
   "source": [
    "#Write your code below this line 👇\n",
    "import math\n",
    "\n",
    "def paint_calc(height, width, cover):\n",
    "    num_of_cans = math.ceil((height * width)/ cover)\n",
    "    print(f\"You'll need {num_of_cans} cans of paint\")\n",
    "\n",
    "#Write your code above this line 👆\n",
    "# Define a function called paint_calc() so that the code below works.   \n",
    "\n",
    "# 🚨 Don't change the code below 👇\n",
    "test_h = int(input(\"Height of wall: \"))\n",
    "test_w = int(input(\"Width of wall: \"))\n",
    "coverage = 5\n",
    "paint_calc(height=test_h, width=test_w, cover=coverage)"
   ]
  },
  {
   "cell_type": "markdown",
   "metadata": {},
   "source": [
    "# Prime Number Checker"
   ]
  },
  {
   "cell_type": "code",
   "execution_count": null,
   "metadata": {},
   "outputs": [],
   "source": [
    "\"\"\"\n",
    "Prime numbers are numbers that can only be cleanly divided by themselves and 1.\n",
    "https://en.wikipedia.org/wiki/Prime_number\n",
    "You need to write a function that checks whether if the number passed into it is a prime number or not.\n",
    "e.g. 2 is a prime number because it's only divisible by 1 and 2.\n",
    "But 4 is not a prime number because you can divide it by 1, 2 or 4\n",
    "\n",
    "Hint\n",
    "Remember the modulus:\n",
    "https://stackoverflow.com/questions/4432208/what-is-the-result-of-in-python\n",
    "Make sure you name your function/parameters the same as when it's called on the last line of code.\n",
    "Use the same wording as the Example Outputs to make sure the tests pass.\n",
    "👇👇👇👇👇👇👇\n",
    "\"\"\""
   ]
  },
  {
   "cell_type": "code",
   "execution_count": 29,
   "metadata": {},
   "outputs": [
    {
     "name": "stdout",
     "output_type": "stream",
     "text": [
      "It's a prime number\n"
     ]
    }
   ],
   "source": [
    "#Write your code below this line 👇\n",
    "def prime_checker(number):\n",
    "    is_prime = True\n",
    "    for i in range(2, number):\n",
    "        if number % i == 0:\n",
    "            is_prime = False\n",
    "    if is_prime:\n",
    "        print(\"It's a prime number\")\n",
    "    else:\n",
    "        print(\"It's not a prime number\")\n",
    "\n",
    "#Write your code above this line 👆\n",
    "#Do NOT change any of the code below👇\n",
    "n = int(input(\"Check this number: \"))\n",
    "prime_checker(number=n)"
   ]
  }
 ],
 "metadata": {
  "interpreter": {
   "hash": "aee8b7b246df8f9039afb4144a1f6fd8d2ca17a180786b69acc140d282b71a49"
  },
  "kernelspec": {
   "display_name": "Python 3.10.5 64-bit",
   "language": "python",
   "name": "python3"
  },
  "language_info": {
   "codemirror_mode": {
    "name": "ipython",
    "version": 3
   },
   "file_extension": ".py",
   "mimetype": "text/x-python",
   "name": "python",
   "nbconvert_exporter": "python",
   "pygments_lexer": "ipython3",
   "version": "3.10.4"
  },
  "orig_nbformat": 4
 },
 "nbformat": 4,
 "nbformat_minor": 2
}
